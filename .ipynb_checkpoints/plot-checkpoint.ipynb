{
 "cells": [
  {
   "cell_type": "code",
   "execution_count": null,
   "id": "3dc081e9-7dd3-4d32-9f17-763f4b1d9587",
   "metadata": {},
   "outputs": [],
   "source": [
    "import pandas as pd\n",
    "import plotly.express as px"
   ]
  },
  {
   "cell_type": "code",
   "execution_count": null,
   "id": "2d372823-b42c-426b-83f3-d817e61693a0",
   "metadata": {},
   "outputs": [],
   "source": [
    "def plot_graph(csv_name, algo_name, large=False):\n",
    "    df = pd.read_csv(csv_name)\n",
    "    df_columns = list(df.keys())\n",
    "    start, end, increment = 10, 500, 10\n",
    "    if large:\n",
    "        start,end,increment = 500, 25000, 500\n",
    "    fig = px.line(df, x = df_columns[0],y=df_columns[1:],  labels={\n",
    "                     \"Number of nodes (N)\": \"Number of nodes (N)\",\n",
    "                     \"value\": \"Time Taken (us)\",\n",
    "                     \"variable\": \"Legend\"\n",
    "                 }, title = f'{algo_name} - Varying number of threads ({\"Large\" if large else \"Small\"} input size: [{start}, {end}] with an increment of {increment})', markers = True)\n",
    "    # fig.show()\n",
    "    return fig"
   ]
  },
  {
   "cell_type": "code",
   "execution_count": null,
   "id": "7fddb0eb-9ce5-498d-ba48-4e3f2603c0f7",
   "metadata": {},
   "outputs": [],
   "source": [
    "df = pd.read_csv('dijkstra_time.csv')\n",
    "df.info()"
   ]
  },
  {
   "cell_type": "code",
   "execution_count": null,
   "id": "f0b5cbf9-92b9-425a-91d6-af8465f21b87",
   "metadata": {},
   "outputs": [],
   "source": [
    "df_columns = list(df.keys())\n",
    "df_columns"
   ]
  },
  {
   "cell_type": "code",
   "execution_count": null,
   "id": "8aeaf8a7-dca6-4ab8-b4a8-050ecb94915d",
   "metadata": {},
   "outputs": [],
   "source": [
    "fig = px.line(df, x = df_columns[0],y=df_columns[1:],  labels={\n",
    "                     \"Number of nodes (N)\": \"Number of nodes (N)\",\n",
    "                     \"value\": \"Time Taken (us)\",\n",
    "                     \"variable\": \"Legend\"\n",
    "                 }, title = \"Dijkstra's Algorithm - Varying number of threads (Large input)\", markers = True)\n",
    "fig.show()"
   ]
  },
  {
   "cell_type": "code",
   "execution_count": null,
   "id": "e35c5ed8-6c6e-4193-b408-72cde400ae57",
   "metadata": {},
   "outputs": [],
   "source": [
    "dijkstra_fig = plot_graph(\"dijkstra_time.csv\", \"Dijkstra's Algorithm\", True)\n",
    "dijkstra_fig.show()"
   ]
  },
  {
   "cell_type": "code",
   "execution_count": null,
   "id": "9ac31a83-2559-4a49-b46f-e413686c4055",
   "metadata": {},
   "outputs": [],
   "source": [
    "dijkstra_small_fig = plot_graph(\"dijkstra_time_small.csv\", \"Dijkstra's Algorithm\", False)\n",
    "dijkstra_small_fig.show()"
   ]
  },
  {
   "cell_type": "code",
   "execution_count": null,
   "id": "43df2c4a-fb11-43d7-b61d-0d8fa7783c4f",
   "metadata": {},
   "outputs": [],
   "source": [
    "bellman_ford_small_fig = plot_graph(\"bellman_ford_time_small.csv\", \"Bellman-Ford's Algorithm\", False)\n",
    "bellman_ford_small_fig.show()"
   ]
  },
  {
   "cell_type": "code",
   "execution_count": null,
   "id": "2d093646-ac92-4a03-aaae-47738a05cb35",
   "metadata": {},
   "outputs": [],
   "source": [
    "bellman_ford_fig = plot_graph(\"bellman_ford_time.csv\", \"Bellman-Ford's Algorithm\", True)\n",
    "bellman_ford_fig.show()"
   ]
  },
  {
   "cell_type": "code",
   "execution_count": null,
   "id": "0519b941-717f-47bd-9c86-80f1fa175736",
   "metadata": {},
   "outputs": [],
   "source": [
    "sample_b = plot_graph(\"sample_b.csv\", \"Bellman-Ford's Algorithm with other user processes\", True)\n",
    "sample_b.show()"
   ]
  },
  {
   "cell_type": "code",
   "execution_count": null,
   "id": "455b024c-d7f3-46e8-a996-da09eafe6a41",
   "metadata": {},
   "outputs": [],
   "source": [
    "sample_d = plot_graph(\"sample_d.csv\", \"Dijkstra's Algorithm with other user processes\", False)\n",
    "sample_d.show()"
   ]
  },
  {
   "cell_type": "code",
   "execution_count": null,
   "id": "372ea94d-f0dc-4d50-97ae-6d0588e8ca23",
   "metadata": {},
   "outputs": [],
   "source": [
    "data = pd.read_csv(\"dijkstra_time.csv\")\n",
    "data.head()"
   ]
  },
  {
   "cell_type": "code",
   "execution_count": null,
   "id": "f6468882-add4-4786-a460-09b2332dc074",
   "metadata": {},
   "outputs": [],
   "source": [
    "data.tail()"
   ]
  },
  {
   "cell_type": "code",
   "execution_count": null,
   "id": "de9f3971-b41a-4415-a7ea-b545fa39332d",
   "metadata": {},
   "outputs": [],
   "source": [
    "def get_digit_from_str(txt):\n",
    "    return [int(s) for s in txt.split() if s.isdigit()]"
   ]
  },
  {
   "cell_type": "code",
   "execution_count": null,
   "id": "f66e97a4-37a9-466f-af37-901fc6dc68b5",
   "metadata": {},
   "outputs": [],
   "source": [
    "data = pd.read_csv(\"bellman_ford_time.csv\")\n",
    "data.mean()"
   ]
  },
  {
   "cell_type": "code",
   "execution_count": null,
   "id": "54d7fa62-a109-434a-bf00-ec0130e25e0e",
   "metadata": {},
   "outputs": [],
   "source": [
    "data_cols = data.keys()\n",
    "serial_time = None\n",
    "parallel_times = []\n",
    "for i in data_cols:\n",
    "    num_thread = get_digit_from_str(i)\n",
    "    if \"serial\" in i.lower():\n",
    "        serial_time = data.mean()[i]\n",
    "    elif len(num_thread) != 0:\n",
    "        parallel_times.append([num_thread[0], data.mean()[i]])\n",
    "print(serial_time, parallel_times)"
   ]
  },
  {
   "cell_type": "code",
   "execution_count": null,
   "id": "4226d531-73cb-4fc5-93b2-285bfef03eef",
   "metadata": {},
   "outputs": [],
   "source": [
    "# Speedup calculation for Bellman-Ford's:\n",
    "for num_thread, parallel_time in parallel_times:\n",
    "    speedup = serial_time/parallel_time\n",
    "    efficiency = (speedup/num_thread) * 100\n",
    "    print(f\"For {num_thread} threads, Speedup = {speedup:.2f} & Efficiency = {efficiency:.2f}%\")"
   ]
  },
  {
   "cell_type": "code",
   "execution_count": null,
   "id": "772c1b2a-4303-4195-b208-22838e87ec01",
   "metadata": {},
   "outputs": [],
   "source": [
    "import dash\n",
    "from dash import html\n",
    "from dash import dcc\n",
    "\n",
    "app = dash.Dash()\n",
    "app.layout = html.Div(children = [\n",
    "    dcc.Graph(figure=dijkstra_small_fig),\n",
    "    dcc.Graph(figure=dijkstra_fig),\n",
    "    dcc.Graph(figure=bellman_ford_small_fig),\n",
    "    dcc.Graph(figure=bellman_ford_fig),\n",
    "    dcc.Graph(figure=sample_b),\n",
    "    dcc.Graph(figure=sample_d),\n",
    "])\n",
    "\n",
    "app.run_server(debug=True, use_reloader=False)  "
   ]
  }
 ],
 "metadata": {
  "kernelspec": {
   "display_name": "Python 3 (ipykernel)",
   "language": "python",
   "name": "python3"
  },
  "language_info": {
   "codemirror_mode": {
    "name": "ipython",
    "version": 3
   },
   "file_extension": ".py",
   "mimetype": "text/x-python",
   "name": "python",
   "nbconvert_exporter": "python",
   "pygments_lexer": "ipython3",
   "version": "3.9.7"
  }
 },
 "nbformat": 4,
 "nbformat_minor": 5
}
